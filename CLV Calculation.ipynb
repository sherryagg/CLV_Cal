{
 "cells": [
  {
   "cell_type": "markdown",
   "metadata": {},
   "source": [
    "# CLV Calculation"
   ]
  },
  {
   "cell_type": "markdown",
   "metadata": {},
   "source": [
    "This notebook will demonstrate the 2 approaches that we use in calculating Customer Lifetime Value (CLV). "
   ]
  },
  {
   "cell_type": "markdown",
   "metadata": {},
   "source": [
    "### Pre-processing"
   ]
  },
  {
   "cell_type": "code",
   "execution_count": 1,
   "metadata": {},
   "outputs": [],
   "source": [
    "#Import library\n",
    "import numpy as np\n",
    "import pandas as pd\n",
    "import lifetimes"
   ]
  },
  {
   "cell_type": "code",
   "execution_count": 2,
   "metadata": {},
   "outputs": [],
   "source": [
    "#load dataset \n",
    "summary = pd.read_csv('DMEFExtractSummaryV01.csv')\n",
    "orders = pd.read_csv('DMEFExtractOrdersV01.csv')\n",
    "contacts = pd.read_csv('DMEFExtractContactsV01.csv')\n",
    "lines = pd.read_csv('DMEFExtractLinesV01.csv')"
   ]
  },
  {
   "cell_type": "code",
   "execution_count": 3,
   "metadata": {},
   "outputs": [
    {
     "name": "stdout",
     "output_type": "stream",
     "text": [
      "The Time range of transactions is: 2001-01-01 to 2008-01-01\n",
      "Total number of unique customers: 100051\n",
      "Total Sales for the period: 17219547.900000002\n",
      "Average Sales for the period: 71.34087873376829\n"
     ]
    }
   ],
   "source": [
    "#clean the lines data\n",
    "lines[\"OrderDate\"] = lines[\"OrderDate\"].astype(str)\n",
    "lines[\"Year\"] = lines[\"OrderDate\"].str.slice(stop=4)\n",
    "lines[\"Year\"] = pd.to_numeric(lines[\"Year\"])\n",
    "lines_summary = lines.groupby([\"Cust_ID\",\"OrderNum\", \"Year\"],as_index=False)['LineDollars'].sum()\n",
    "data_clv = orders.merge(lines_summary,on=[\"Cust_ID\",\"OrderNum\"],how=\"left\")\n",
    "data_clv['Order_date'] = pd.to_datetime(data_clv['OrderDate'], format='%Y%m%d')\n",
    "maxdate = data_clv['Order_date'].dt.date.max()\n",
    "mindate = data_clv['Order_date'].dt.date.min()\n",
    "unique_cust = data_clv['Cust_ID'].nunique()\n",
    "tot_sales = data_clv['LineDollars'].sum()\n",
    "avg_sales = data_clv['LineDollars'].mean()\n",
    "\n",
    "print(f\"The Time range of transactions is: {mindate} to {maxdate}\")\n",
    "print(f\"Total number of unique customers: {unique_cust}\")\n",
    "print(f\"Total Sales for the period: {tot_sales}\")\n",
    "print(f\"Average Sales for the period: {avg_sales}\")"
   ]
  },
  {
   "cell_type": "markdown",
   "metadata": {},
   "source": [
    "### Historical approach: Cohort Model"
   ]
  },
  {
   "cell_type": "markdown",
   "metadata": {},
   "source": [
    "This approach calculates CLV using historical data by cohorts, which are split by year of initial transaction. First, we will find the count of customers who make a number of transactions over the years, then the revenue that they generated. We can then calculate the retention rate, which varies across the years, and the average revenue per customer. These values, combined with the interest rate and the profit margins, will allow us to compute the CLV for our customer."
   ]
  },
  {
   "cell_type": "code",
   "execution_count": 4,
   "metadata": {},
   "outputs": [],
   "source": [
    "#create years vs number of orders table\n",
    "def gen_trans(start_year):\n",
    "    lines_copy = lines.copy()\n",
    "    lines_copy = lines_copy[[\"Cust_ID\", \"Year\"]].groupby([\"Cust_ID\"]).agg('min')\n",
    "    lines_copy = lines_copy.reset_index()\n",
    "    lines_copy = lines_copy[\"Cust_ID\"].loc[lines_copy[\"Year\"] == start_year]\n",
    "\n",
    "    cust_list = lines_copy.unique()\n",
    "\n",
    "    lines_copy = lines.copy()\n",
    "    lines_copy = lines_copy[lines_copy[\"Cust_ID\"].isin(cust_list)]\n",
    "    lines_copy = lines_copy[[\"Cust_ID\", \"Year\", \"OrderNum\"]].groupby([\"Cust_ID\", \"Year\"]).count()\n",
    "    lines_copy = lines_copy.reset_index()\n",
    "    \n",
    "    lines_copy = lines_copy.groupby([\"Year\", \"OrderNum\"]).count()\n",
    "    lines_copy.index.rename([\"Year\", \"OrderNum\"],  inplace=True)\n",
    "    lines_copy = lines_copy[\"Cust_ID\"].unstack([\"Year\"])\n",
    "    lines_copy = lines_copy.fillna(0)\n",
    "\n",
    "    return lines_copy"
   ]
  },
  {
   "cell_type": "code",
   "execution_count": 5,
   "metadata": {},
   "outputs": [],
   "source": [
    "#create years vs total revenue table\n",
    "def gen_rev(start_year, margin):\n",
    "    lines_copy = lines.copy()\n",
    "    lines_copy = lines_copy[[\"Cust_ID\", \"Year\"]].groupby([\"Cust_ID\"]).agg('min')\n",
    "    lines_copy = lines_copy.reset_index()\n",
    "    lines_copy = lines_copy[\"Cust_ID\"].loc[lines_copy[\"Year\"] == start_year]\n",
    "\n",
    "    cust_list = lines_copy.unique()\n",
    "\n",
    "    lines_copy = lines.copy()\n",
    "    lines_copy = lines_copy[lines_copy[\"Cust_ID\"].isin(cust_list)]\n",
    "    lines_copy = lines_copy[[\"Cust_ID\", \"Year\", \"LineDollars\"]].groupby([\"Cust_ID\", \"Year\"]).agg({\"LineDollars\":lambda x: x.sum()})\n",
    "    lines_copy = lines_copy.reset_index()\n",
    "    lines_copy = lines_copy[[\"Year\",\"LineDollars\"]].groupby([\"Year\"]).sum()\n",
    "    \n",
    "    lines_copy = lines_copy.T\n",
    "    lines_copy = lines_copy*margin\n",
    "    \n",
    "    return lines_copy\n"
   ]
  },
  {
   "cell_type": "code",
   "execution_count": 6,
   "metadata": {},
   "outputs": [],
   "source": [
    "#create final table\n",
    "def gen_fin(year, margin, drate):\n",
    "    trans_arr = gen_trans(year)\n",
    "    rev_arr = gen_rev(year, margin)\n",
    "    total_cust = trans_arr.sum(axis=0) #sum by col\n",
    "    \n",
    "    cust = trans_arr.iloc[:, 0].sum()\n",
    "    rev = pd.DataFrame(rev_arr.div(total_cust.values)) #average revenue per customer = Mt\n",
    "    \n",
    "    col = list(trans_arr.columns) #all number of transactions values \n",
    "    col = np.array([t - col[0] for t in col])\n",
    "\n",
    "    rr = pd.DataFrame((trans_arr.iloc[1:, :].sum(axis=0)/cust)).T\n",
    "    df = rr.append(rev)\n",
    "    df = df.rename(index={0: \"rt\", \"LineDollars\" : \"Mt\"})\n",
    "    df1 = pd.DataFrame(df.iloc[0, :]*df.iloc[1, :] /(1+drate)**(col)).T\n",
    "    df = df.append(df1)\n",
    "    df = df.rename(index={0: \"Cust_val\"})\n",
    "    df = df.set_axis(col, axis='columns')\n",
    "\n",
    "    return df "
   ]
  },
  {
   "cell_type": "markdown",
   "metadata": {},
   "source": [
    "The final tables that consist of all values for retention rates, average revenue per customer, and customer lifetime values for each cohort are then shown as below:"
   ]
  },
  {
   "cell_type": "markdown",
   "metadata": {},
   "source": [
    "* Cohort who has their initial transaction in 2001:"
   ]
  },
  {
   "cell_type": "code",
   "execution_count": 7,
   "metadata": {},
   "outputs": [
    {
     "data": {
      "text/html": [
       "<div>\n",
       "<style scoped>\n",
       "    .dataframe tbody tr th:only-of-type {\n",
       "        vertical-align: middle;\n",
       "    }\n",
       "\n",
       "    .dataframe tbody tr th {\n",
       "        vertical-align: top;\n",
       "    }\n",
       "\n",
       "    .dataframe thead th {\n",
       "        text-align: right;\n",
       "    }\n",
       "</style>\n",
       "<table border=\"1\" class=\"dataframe\">\n",
       "  <thead>\n",
       "    <tr style=\"text-align: right;\">\n",
       "      <th></th>\n",
       "      <th>0</th>\n",
       "      <th>1</th>\n",
       "      <th>2</th>\n",
       "      <th>3</th>\n",
       "      <th>4</th>\n",
       "      <th>5</th>\n",
       "      <th>6</th>\n",
       "      <th>7</th>\n",
       "    </tr>\n",
       "  </thead>\n",
       "  <tbody>\n",
       "    <tr>\n",
       "      <th>rt</th>\n",
       "      <td>0.504928</td>\n",
       "      <td>0.227554</td>\n",
       "      <td>0.186570</td>\n",
       "      <td>0.171821</td>\n",
       "      <td>0.161626</td>\n",
       "      <td>0.140420</td>\n",
       "      <td>0.113845</td>\n",
       "      <td>0.000068</td>\n",
       "    </tr>\n",
       "    <tr>\n",
       "      <th>Mt</th>\n",
       "      <td>12.760134</td>\n",
       "      <td>16.289531</td>\n",
       "      <td>14.527933</td>\n",
       "      <td>13.365163</td>\n",
       "      <td>14.350680</td>\n",
       "      <td>14.987663</td>\n",
       "      <td>15.572191</td>\n",
       "      <td>13.742500</td>\n",
       "    </tr>\n",
       "    <tr>\n",
       "      <th>Cust_val</th>\n",
       "      <td>6.442944</td>\n",
       "      <td>1.853373</td>\n",
       "      <td>0.677618</td>\n",
       "      <td>0.287052</td>\n",
       "      <td>0.144965</td>\n",
       "      <td>0.065768</td>\n",
       "      <td>0.027700</td>\n",
       "      <td>0.000007</td>\n",
       "    </tr>\n",
       "  </tbody>\n",
       "</table>\n",
       "</div>"
      ],
      "text/plain": [
       "                  0          1          2          3          4          5  \\\n",
       "rt         0.504928   0.227554   0.186570   0.171821   0.161626   0.140420   \n",
       "Mt        12.760134  16.289531  14.527933  13.365163  14.350680  14.987663   \n",
       "Cust_val   6.442944   1.853373   0.677618   0.287052   0.144965   0.065768   \n",
       "\n",
       "                  6          7  \n",
       "rt         0.113845   0.000068  \n",
       "Mt        15.572191  13.742500  \n",
       "Cust_val   0.027700   0.000007  "
      ]
     },
     "execution_count": 7,
     "metadata": {},
     "output_type": "execute_result"
    }
   ],
   "source": [
    "gen_fin(2001, 0.1, 1)"
   ]
  },
  {
   "cell_type": "markdown",
   "metadata": {},
   "source": [
    "* Cohort who has their initial transaction in 2002:"
   ]
  },
  {
   "cell_type": "code",
   "execution_count": 8,
   "metadata": {},
   "outputs": [
    {
     "data": {
      "text/html": [
       "<div>\n",
       "<style scoped>\n",
       "    .dataframe tbody tr th:only-of-type {\n",
       "        vertical-align: middle;\n",
       "    }\n",
       "\n",
       "    .dataframe tbody tr th {\n",
       "        vertical-align: top;\n",
       "    }\n",
       "\n",
       "    .dataframe thead th {\n",
       "        text-align: right;\n",
       "    }\n",
       "</style>\n",
       "<table border=\"1\" class=\"dataframe\">\n",
       "  <thead>\n",
       "    <tr style=\"text-align: right;\">\n",
       "      <th></th>\n",
       "      <th>0</th>\n",
       "      <th>1</th>\n",
       "      <th>2</th>\n",
       "      <th>3</th>\n",
       "      <th>4</th>\n",
       "      <th>5</th>\n",
       "      <th>6</th>\n",
       "    </tr>\n",
       "  </thead>\n",
       "  <tbody>\n",
       "    <tr>\n",
       "      <th>rt</th>\n",
       "      <td>0.461681</td>\n",
       "      <td>0.186836</td>\n",
       "      <td>0.164741</td>\n",
       "      <td>0.155496</td>\n",
       "      <td>0.130073</td>\n",
       "      <td>0.096977</td>\n",
       "      <td>0.000000</td>\n",
       "    </tr>\n",
       "    <tr>\n",
       "      <th>Mt</th>\n",
       "      <td>8.653107</td>\n",
       "      <td>11.517982</td>\n",
       "      <td>11.769596</td>\n",
       "      <td>12.035179</td>\n",
       "      <td>12.561631</td>\n",
       "      <td>12.864908</td>\n",
       "      <td>4.028333</td>\n",
       "    </tr>\n",
       "    <tr>\n",
       "      <th>Cust_val</th>\n",
       "      <td>3.994972</td>\n",
       "      <td>1.075984</td>\n",
       "      <td>0.484733</td>\n",
       "      <td>0.233928</td>\n",
       "      <td>0.102121</td>\n",
       "      <td>0.038987</td>\n",
       "      <td>0.000000</td>\n",
       "    </tr>\n",
       "  </tbody>\n",
       "</table>\n",
       "</div>"
      ],
      "text/plain": [
       "                 0          1          2          3          4          5  \\\n",
       "rt        0.461681   0.186836   0.164741   0.155496   0.130073   0.096977   \n",
       "Mt        8.653107  11.517982  11.769596  12.035179  12.561631  12.864908   \n",
       "Cust_val  3.994972   1.075984   0.484733   0.233928   0.102121   0.038987   \n",
       "\n",
       "                 6  \n",
       "rt        0.000000  \n",
       "Mt        4.028333  \n",
       "Cust_val  0.000000  "
      ]
     },
     "execution_count": 8,
     "metadata": {},
     "output_type": "execute_result"
    }
   ],
   "source": [
    "gen_fin(2002, 0.1, 1)"
   ]
  },
  {
   "cell_type": "markdown",
   "metadata": {},
   "source": [
    "* Cohort who has their initial transaction in 2003:"
   ]
  },
  {
   "cell_type": "code",
   "execution_count": 9,
   "metadata": {},
   "outputs": [
    {
     "data": {
      "text/html": [
       "<div>\n",
       "<style scoped>\n",
       "    .dataframe tbody tr th:only-of-type {\n",
       "        vertical-align: middle;\n",
       "    }\n",
       "\n",
       "    .dataframe tbody tr th {\n",
       "        vertical-align: top;\n",
       "    }\n",
       "\n",
       "    .dataframe thead th {\n",
       "        text-align: right;\n",
       "    }\n",
       "</style>\n",
       "<table border=\"1\" class=\"dataframe\">\n",
       "  <thead>\n",
       "    <tr style=\"text-align: right;\">\n",
       "      <th></th>\n",
       "      <th>0</th>\n",
       "      <th>1</th>\n",
       "      <th>2</th>\n",
       "      <th>3</th>\n",
       "      <th>4</th>\n",
       "      <th>5</th>\n",
       "    </tr>\n",
       "  </thead>\n",
       "  <tbody>\n",
       "    <tr>\n",
       "      <th>rt</th>\n",
       "      <td>0.570552</td>\n",
       "      <td>0.232532</td>\n",
       "      <td>0.192277</td>\n",
       "      <td>0.160517</td>\n",
       "      <td>0.111341</td>\n",
       "      <td>0.000</td>\n",
       "    </tr>\n",
       "    <tr>\n",
       "      <th>Mt</th>\n",
       "      <td>7.646905</td>\n",
       "      <td>10.955496</td>\n",
       "      <td>11.388638</td>\n",
       "      <td>11.341106</td>\n",
       "      <td>11.647789</td>\n",
       "      <td>5.395</td>\n",
       "    </tr>\n",
       "    <tr>\n",
       "      <th>Cust_val</th>\n",
       "      <td>4.362954</td>\n",
       "      <td>1.273749</td>\n",
       "      <td>0.547445</td>\n",
       "      <td>0.227555</td>\n",
       "      <td>0.081055</td>\n",
       "      <td>0.000</td>\n",
       "    </tr>\n",
       "  </tbody>\n",
       "</table>\n",
       "</div>"
      ],
      "text/plain": [
       "                 0          1          2          3          4      5\n",
       "rt        0.570552   0.232532   0.192277   0.160517   0.111341  0.000\n",
       "Mt        7.646905  10.955496  11.388638  11.341106  11.647789  5.395\n",
       "Cust_val  4.362954   1.273749   0.547445   0.227555   0.081055  0.000"
      ]
     },
     "execution_count": 9,
     "metadata": {},
     "output_type": "execute_result"
    }
   ],
   "source": [
    "gen_fin(2003, 0.1, 1)"
   ]
  },
  {
   "cell_type": "markdown",
   "metadata": {},
   "source": [
    "* Cohort who has their initial transaction in 2004:"
   ]
  },
  {
   "cell_type": "code",
   "execution_count": 10,
   "metadata": {},
   "outputs": [
    {
     "data": {
      "text/html": [
       "<div>\n",
       "<style scoped>\n",
       "    .dataframe tbody tr th:only-of-type {\n",
       "        vertical-align: middle;\n",
       "    }\n",
       "\n",
       "    .dataframe tbody tr th {\n",
       "        vertical-align: top;\n",
       "    }\n",
       "\n",
       "    .dataframe thead th {\n",
       "        text-align: right;\n",
       "    }\n",
       "</style>\n",
       "<table border=\"1\" class=\"dataframe\">\n",
       "  <thead>\n",
       "    <tr style=\"text-align: right;\">\n",
       "      <th></th>\n",
       "      <th>0</th>\n",
       "      <th>1</th>\n",
       "      <th>2</th>\n",
       "      <th>3</th>\n",
       "      <th>4</th>\n",
       "    </tr>\n",
       "  </thead>\n",
       "  <tbody>\n",
       "    <tr>\n",
       "      <th>rt</th>\n",
       "      <td>0.590023</td>\n",
       "      <td>0.211437</td>\n",
       "      <td>0.164633</td>\n",
       "      <td>0.106316</td>\n",
       "      <td>0.000</td>\n",
       "    </tr>\n",
       "    <tr>\n",
       "      <th>Mt</th>\n",
       "      <td>7.407313</td>\n",
       "      <td>10.382465</td>\n",
       "      <td>11.035546</td>\n",
       "      <td>10.294158</td>\n",
       "      <td>2.095</td>\n",
       "    </tr>\n",
       "    <tr>\n",
       "      <th>Cust_val</th>\n",
       "      <td>4.370482</td>\n",
       "      <td>1.097618</td>\n",
       "      <td>0.454203</td>\n",
       "      <td>0.136804</td>\n",
       "      <td>0.000</td>\n",
       "    </tr>\n",
       "  </tbody>\n",
       "</table>\n",
       "</div>"
      ],
      "text/plain": [
       "                 0          1          2          3      4\n",
       "rt        0.590023   0.211437   0.164633   0.106316  0.000\n",
       "Mt        7.407313  10.382465  11.035546  10.294158  2.095\n",
       "Cust_val  4.370482   1.097618   0.454203   0.136804  0.000"
      ]
     },
     "execution_count": 10,
     "metadata": {},
     "output_type": "execute_result"
    }
   ],
   "source": [
    "gen_fin(2004, 0.1, 1)"
   ]
  },
  {
   "cell_type": "markdown",
   "metadata": {},
   "source": [
    "* Cohort who has their initial transaction in 2005:"
   ]
  },
  {
   "cell_type": "code",
   "execution_count": 11,
   "metadata": {},
   "outputs": [
    {
     "data": {
      "text/html": [
       "<div>\n",
       "<style scoped>\n",
       "    .dataframe tbody tr th:only-of-type {\n",
       "        vertical-align: middle;\n",
       "    }\n",
       "\n",
       "    .dataframe tbody tr th {\n",
       "        vertical-align: top;\n",
       "    }\n",
       "\n",
       "    .dataframe thead th {\n",
       "        text-align: right;\n",
       "    }\n",
       "</style>\n",
       "<table border=\"1\" class=\"dataframe\">\n",
       "  <thead>\n",
       "    <tr style=\"text-align: right;\">\n",
       "      <th></th>\n",
       "      <th>0</th>\n",
       "      <th>1</th>\n",
       "      <th>2</th>\n",
       "    </tr>\n",
       "  </thead>\n",
       "  <tbody>\n",
       "    <tr>\n",
       "      <th>rt</th>\n",
       "      <td>0.571128</td>\n",
       "      <td>0.170491</td>\n",
       "      <td>0.105163</td>\n",
       "    </tr>\n",
       "    <tr>\n",
       "      <th>Mt</th>\n",
       "      <td>7.635346</td>\n",
       "      <td>10.796802</td>\n",
       "      <td>10.519566</td>\n",
       "    </tr>\n",
       "    <tr>\n",
       "      <th>Cust_val</th>\n",
       "      <td>4.360761</td>\n",
       "      <td>0.920378</td>\n",
       "      <td>0.276566</td>\n",
       "    </tr>\n",
       "  </tbody>\n",
       "</table>\n",
       "</div>"
      ],
      "text/plain": [
       "                 0          1          2\n",
       "rt        0.571128   0.170491   0.105163\n",
       "Mt        7.635346  10.796802  10.519566\n",
       "Cust_val  4.360761   0.920378   0.276566"
      ]
     },
     "execution_count": 11,
     "metadata": {},
     "output_type": "execute_result"
    }
   ],
   "source": [
    "gen_fin(2005, 0.1, 1)"
   ]
  },
  {
   "cell_type": "markdown",
   "metadata": {},
   "source": [
    "The final CLV are then computed as follow:"
   ]
  },
  {
   "cell_type": "code",
   "execution_count": 12,
   "metadata": {},
   "outputs": [
    {
     "data": {
      "text/plain": [
       "[176.7026854270703,\n",
       " 108.50413829701752,\n",
       " 107.4210331212534,\n",
       " 86.89912275152042,\n",
       " 69.48442125979075,\n",
       " 56.32455139216924,\n",
       " 50.54268520770072]"
      ]
     },
     "execution_count": 12,
     "metadata": {},
     "output_type": "execute_result"
    }
   ],
   "source": [
    "year_list = list(range(2001, 2008, 1))\n",
    "margin = 1 # we could change this parameter with the company's margin to get profit instead of revenue\n",
    "drate = 0.1 # annual discount rate\n",
    "CLV = []\n",
    "\n",
    "for year in year_list:\n",
    "    trans_arr = gen_trans(year)\n",
    "    rev_arr = gen_rev(year, margin)\n",
    "    total_cust = trans_arr.sum(axis=0) #sum by col\n",
    "    \n",
    "    cust = trans_arr.iloc[:, 0].sum()\n",
    "    rev = np.array(rev_arr.div(total_cust.values)) #average revenue per customer = Mt\n",
    "    \n",
    "    col = list(trans_arr.columns) #all number of transactions values \n",
    "    col = np.array([t - col[0] for t in col])\n",
    "\n",
    "    rr = np.array(trans_arr.iloc[1:, :].sum(axis=0)/cust)\n",
    "    cust_val = rr*rev/(1+drate)**(col)\n",
    "    cust_val = cust_val.sum()   \n",
    "    CLV.append(cust_val)\n",
    "CLV"
   ]
  },
  {
   "cell_type": "markdown",
   "metadata": {},
   "source": [
    "The average CLV is: "
   ]
  },
  {
   "cell_type": "code",
   "execution_count": 13,
   "metadata": {},
   "outputs": [
    {
     "data": {
      "text/plain": [
       "109.8022801713305"
      ]
     },
     "execution_count": 13,
     "metadata": {},
     "output_type": "execute_result"
    }
   ],
   "source": [
    "np.array(CLV[:5]).mean()"
   ]
  },
  {
   "cell_type": "markdown",
   "metadata": {},
   "source": [
    "### Predictive Approach: Probabilistic Model"
   ]
  },
  {
   "cell_type": "markdown",
   "metadata": {},
   "source": [
    "In this approach, we will use a probabilistic model, which use the Beta Geometric/Negative Binomial Distribution to predict the future retention rate and the Gamma-Gamma model to predict the future revenue generated. We will use a library that was designed to build these models called *lifetimes* in Python to help us complete this task."
   ]
  },
  {
   "cell_type": "code",
   "execution_count": 14,
   "metadata": {},
   "outputs": [
    {
     "data": {
      "text/html": [
       "<div>\n",
       "<style scoped>\n",
       "    .dataframe tbody tr th:only-of-type {\n",
       "        vertical-align: middle;\n",
       "    }\n",
       "\n",
       "    .dataframe tbody tr th {\n",
       "        vertical-align: top;\n",
       "    }\n",
       "\n",
       "    .dataframe thead th {\n",
       "        text-align: right;\n",
       "    }\n",
       "</style>\n",
       "<table border=\"1\" class=\"dataframe\">\n",
       "  <thead>\n",
       "    <tr style=\"text-align: right;\">\n",
       "      <th></th>\n",
       "      <th>Cust_ID</th>\n",
       "      <th>OrderNum</th>\n",
       "      <th>OrderDate</th>\n",
       "      <th>OrderMethod</th>\n",
       "      <th>PaymentType</th>\n",
       "      <th>Year</th>\n",
       "      <th>LineDollars</th>\n",
       "      <th>Order_date</th>\n",
       "    </tr>\n",
       "  </thead>\n",
       "  <tbody>\n",
       "    <tr>\n",
       "      <th>0</th>\n",
       "      <td>22120</td>\n",
       "      <td>6642001731</td>\n",
       "      <td>20041213</td>\n",
       "      <td>ST</td>\n",
       "      <td>BC</td>\n",
       "      <td>2004</td>\n",
       "      <td>69.75</td>\n",
       "      <td>2004-12-13</td>\n",
       "    </tr>\n",
       "    <tr>\n",
       "      <th>1</th>\n",
       "      <td>22120</td>\n",
       "      <td>6643008965</td>\n",
       "      <td>20061209</td>\n",
       "      <td>ST</td>\n",
       "      <td>CA</td>\n",
       "      <td>2006</td>\n",
       "      <td>13.95</td>\n",
       "      <td>2006-12-09</td>\n",
       "    </tr>\n",
       "    <tr>\n",
       "      <th>2</th>\n",
       "      <td>24436</td>\n",
       "      <td>7200158663</td>\n",
       "      <td>20070616</td>\n",
       "      <td>P</td>\n",
       "      <td>BC</td>\n",
       "      <td>2007</td>\n",
       "      <td>40.95</td>\n",
       "      <td>2007-06-16</td>\n",
       "    </tr>\n",
       "    <tr>\n",
       "      <th>3</th>\n",
       "      <td>29278</td>\n",
       "      <td>2200159161</td>\n",
       "      <td>20031201</td>\n",
       "      <td>P</td>\n",
       "      <td>BC</td>\n",
       "      <td>2003</td>\n",
       "      <td>24.95</td>\n",
       "      <td>2003-12-01</td>\n",
       "    </tr>\n",
       "    <tr>\n",
       "      <th>4</th>\n",
       "      <td>29278</td>\n",
       "      <td>5800062930</td>\n",
       "      <td>20061208</td>\n",
       "      <td>P</td>\n",
       "      <td>BC</td>\n",
       "      <td>2006</td>\n",
       "      <td>26.95</td>\n",
       "      <td>2006-12-08</td>\n",
       "    </tr>\n",
       "  </tbody>\n",
       "</table>\n",
       "</div>"
      ],
      "text/plain": [
       "   Cust_ID    OrderNum  OrderDate OrderMethod PaymentType  Year  LineDollars  \\\n",
       "0    22120  6642001731   20041213          ST          BC  2004        69.75   \n",
       "1    22120  6643008965   20061209          ST          CA  2006        13.95   \n",
       "2    24436  7200158663   20070616           P          BC  2007        40.95   \n",
       "3    29278  2200159161   20031201           P          BC  2003        24.95   \n",
       "4    29278  5800062930   20061208           P          BC  2006        26.95   \n",
       "\n",
       "  Order_date  \n",
       "0 2004-12-13  \n",
       "1 2006-12-09  \n",
       "2 2007-06-16  \n",
       "3 2003-12-01  \n",
       "4 2006-12-08  "
      ]
     },
     "execution_count": 14,
     "metadata": {},
     "output_type": "execute_result"
    }
   ],
   "source": [
    "data_clv.head()"
   ]
  },
  {
   "cell_type": "code",
   "execution_count": 15,
   "metadata": {},
   "outputs": [
    {
     "data": {
      "text/html": [
       "<div>\n",
       "<style scoped>\n",
       "    .dataframe tbody tr th:only-of-type {\n",
       "        vertical-align: middle;\n",
       "    }\n",
       "\n",
       "    .dataframe tbody tr th {\n",
       "        vertical-align: top;\n",
       "    }\n",
       "\n",
       "    .dataframe thead th {\n",
       "        text-align: right;\n",
       "    }\n",
       "</style>\n",
       "<table border=\"1\" class=\"dataframe\">\n",
       "  <thead>\n",
       "    <tr style=\"text-align: right;\">\n",
       "      <th></th>\n",
       "      <th>Cust_ID</th>\n",
       "      <th>frequency</th>\n",
       "      <th>recency</th>\n",
       "      <th>T</th>\n",
       "      <th>monetary_value</th>\n",
       "    </tr>\n",
       "  </thead>\n",
       "  <tbody>\n",
       "    <tr>\n",
       "      <th>0</th>\n",
       "      <td>22120</td>\n",
       "      <td>1.0</td>\n",
       "      <td>726.0</td>\n",
       "      <td>1114.0</td>\n",
       "      <td>13.950000</td>\n",
       "    </tr>\n",
       "    <tr>\n",
       "      <th>1</th>\n",
       "      <td>24436</td>\n",
       "      <td>0.0</td>\n",
       "      <td>0.0</td>\n",
       "      <td>199.0</td>\n",
       "      <td>0.000000</td>\n",
       "    </tr>\n",
       "    <tr>\n",
       "      <th>2</th>\n",
       "      <td>29278</td>\n",
       "      <td>6.0</td>\n",
       "      <td>1470.0</td>\n",
       "      <td>1492.0</td>\n",
       "      <td>41.433333</td>\n",
       "    </tr>\n",
       "    <tr>\n",
       "      <th>3</th>\n",
       "      <td>50011</td>\n",
       "      <td>0.0</td>\n",
       "      <td>0.0</td>\n",
       "      <td>1821.0</td>\n",
       "      <td>0.000000</td>\n",
       "    </tr>\n",
       "    <tr>\n",
       "      <th>4</th>\n",
       "      <td>51943</td>\n",
       "      <td>1.0</td>\n",
       "      <td>68.0</td>\n",
       "      <td>2208.0</td>\n",
       "      <td>23.950000</td>\n",
       "    </tr>\n",
       "  </tbody>\n",
       "</table>\n",
       "</div>"
      ],
      "text/plain": [
       "   Cust_ID  frequency  recency       T  monetary_value\n",
       "0    22120        1.0    726.0  1114.0       13.950000\n",
       "1    24436        0.0      0.0   199.0        0.000000\n",
       "2    29278        6.0   1470.0  1492.0       41.433333\n",
       "3    50011        0.0      0.0  1821.0        0.000000\n",
       "4    51943        1.0     68.0  2208.0       23.950000"
      ]
     },
     "execution_count": 15,
     "metadata": {},
     "output_type": "execute_result"
    }
   ],
   "source": [
    "# create a dataframe with a summary for each customer\n",
    "summary_data = lifetimes.utils.summary_data_from_transaction_data(data_clv, 'Cust_ID', 'Order_date', 'LineDollars').reset_index()\n",
    "summary_data.head()"
   ]
  },
  {
   "cell_type": "code",
   "execution_count": 16,
   "metadata": {},
   "outputs": [
    {
     "data": {
      "text/html": [
       "<div>\n",
       "<style scoped>\n",
       "    .dataframe tbody tr th:only-of-type {\n",
       "        vertical-align: middle;\n",
       "    }\n",
       "\n",
       "    .dataframe tbody tr th {\n",
       "        vertical-align: top;\n",
       "    }\n",
       "\n",
       "    .dataframe thead th {\n",
       "        text-align: right;\n",
       "    }\n",
       "</style>\n",
       "<table border=\"1\" class=\"dataframe\">\n",
       "  <thead>\n",
       "    <tr style=\"text-align: right;\">\n",
       "      <th></th>\n",
       "      <th>coef</th>\n",
       "      <th>se(coef)</th>\n",
       "      <th>lower 95% bound</th>\n",
       "      <th>upper 95% bound</th>\n",
       "    </tr>\n",
       "  </thead>\n",
       "  <tbody>\n",
       "    <tr>\n",
       "      <th>r</th>\n",
       "      <td>0.384233</td>\n",
       "      <td>0.003169</td>\n",
       "      <td>0.378021</td>\n",
       "      <td>0.390444</td>\n",
       "    </tr>\n",
       "    <tr>\n",
       "      <th>alpha</th>\n",
       "      <td>244.512644</td>\n",
       "      <td>2.950778</td>\n",
       "      <td>238.729119</td>\n",
       "      <td>250.296169</td>\n",
       "    </tr>\n",
       "    <tr>\n",
       "      <th>a</th>\n",
       "      <td>0.680913</td>\n",
       "      <td>0.031251</td>\n",
       "      <td>0.619662</td>\n",
       "      <td>0.742164</td>\n",
       "    </tr>\n",
       "    <tr>\n",
       "      <th>b</th>\n",
       "      <td>3.698436</td>\n",
       "      <td>0.215046</td>\n",
       "      <td>3.276946</td>\n",
       "      <td>4.119926</td>\n",
       "    </tr>\n",
       "  </tbody>\n",
       "</table>\n",
       "</div>"
      ],
      "text/plain": [
       "             coef  se(coef)  lower 95% bound  upper 95% bound\n",
       "r        0.384233  0.003169         0.378021         0.390444\n",
       "alpha  244.512644  2.950778       238.729119       250.296169\n",
       "a        0.680913  0.031251         0.619662         0.742164\n",
       "b        3.698436  0.215046         3.276946         4.119926"
      ]
     },
     "execution_count": 16,
     "metadata": {},
     "output_type": "execute_result"
    }
   ],
   "source": [
    "# fit the BG/NBD model\n",
    "bgf = lifetimes.BetaGeoFitter(penalizer_coef=0)\n",
    "bgf.fit(summary_data['frequency'], summary_data['recency'], summary_data['T'])\n",
    "\n",
    "# visualise estimated parameters\n",
    "bgf.summary"
   ]
  },
  {
   "cell_type": "code",
   "execution_count": 17,
   "metadata": {},
   "outputs": [
    {
     "data": {
      "text/html": [
       "<div>\n",
       "<style scoped>\n",
       "    .dataframe tbody tr th:only-of-type {\n",
       "        vertical-align: middle;\n",
       "    }\n",
       "\n",
       "    .dataframe tbody tr th {\n",
       "        vertical-align: top;\n",
       "    }\n",
       "\n",
       "    .dataframe thead th {\n",
       "        text-align: right;\n",
       "    }\n",
       "</style>\n",
       "<table border=\"1\" class=\"dataframe\">\n",
       "  <thead>\n",
       "    <tr style=\"text-align: right;\">\n",
       "      <th></th>\n",
       "      <th>Cust_ID</th>\n",
       "      <th>frequency</th>\n",
       "      <th>recency</th>\n",
       "      <th>T</th>\n",
       "      <th>monetary_value</th>\n",
       "      <th>condit_prob_alive</th>\n",
       "    </tr>\n",
       "  </thead>\n",
       "  <tbody>\n",
       "    <tr>\n",
       "      <th>0</th>\n",
       "      <td>22120</td>\n",
       "      <td>1.0</td>\n",
       "      <td>726.0</td>\n",
       "      <td>1114.0</td>\n",
       "      <td>13.950000</td>\n",
       "      <td>0.773238</td>\n",
       "    </tr>\n",
       "    <tr>\n",
       "      <th>1</th>\n",
       "      <td>24436</td>\n",
       "      <td>0.0</td>\n",
       "      <td>0.0</td>\n",
       "      <td>199.0</td>\n",
       "      <td>0.000000</td>\n",
       "      <td>1.000000</td>\n",
       "    </tr>\n",
       "    <tr>\n",
       "      <th>2</th>\n",
       "      <td>29278</td>\n",
       "      <td>6.0</td>\n",
       "      <td>1470.0</td>\n",
       "      <td>1492.0</td>\n",
       "      <td>41.433333</td>\n",
       "      <td>0.921728</td>\n",
       "    </tr>\n",
       "    <tr>\n",
       "      <th>3</th>\n",
       "      <td>50011</td>\n",
       "      <td>0.0</td>\n",
       "      <td>0.0</td>\n",
       "      <td>1821.0</td>\n",
       "      <td>0.000000</td>\n",
       "      <td>1.000000</td>\n",
       "    </tr>\n",
       "    <tr>\n",
       "      <th>4</th>\n",
       "      <td>51943</td>\n",
       "      <td>1.0</td>\n",
       "      <td>68.0</td>\n",
       "      <td>2208.0</td>\n",
       "      <td>23.950000</td>\n",
       "      <td>0.238740</td>\n",
       "    </tr>\n",
       "  </tbody>\n",
       "</table>\n",
       "</div>"
      ],
      "text/plain": [
       "   Cust_ID  frequency  recency       T  monetary_value  condit_prob_alive\n",
       "0    22120        1.0    726.0  1114.0       13.950000           0.773238\n",
       "1    24436        0.0      0.0   199.0        0.000000           1.000000\n",
       "2    29278        6.0   1470.0  1492.0       41.433333           0.921728\n",
       "3    50011        0.0      0.0  1821.0        0.000000           1.000000\n",
       "4    51943        1.0     68.0  2208.0       23.950000           0.238740"
      ]
     },
     "execution_count": 17,
     "metadata": {},
     "output_type": "execute_result"
    }
   ],
   "source": [
    "# compute conditional probability that a customer is still alive today\n",
    "summary_data['condit_prob_alive'] = bgf.conditional_probability_alive(summary_data['frequency'], summary_data['recency'], summary_data['T'])\n",
    "summary_data.head()"
   ]
  },
  {
   "cell_type": "code",
   "execution_count": 18,
   "metadata": {},
   "outputs": [
    {
     "data": {
      "text/html": [
       "<div>\n",
       "<style scoped>\n",
       "    .dataframe tbody tr th:only-of-type {\n",
       "        vertical-align: middle;\n",
       "    }\n",
       "\n",
       "    .dataframe tbody tr th {\n",
       "        vertical-align: top;\n",
       "    }\n",
       "\n",
       "    .dataframe thead th {\n",
       "        text-align: right;\n",
       "    }\n",
       "</style>\n",
       "<table border=\"1\" class=\"dataframe\">\n",
       "  <thead>\n",
       "    <tr style=\"text-align: right;\">\n",
       "      <th></th>\n",
       "      <th>Cust_ID</th>\n",
       "      <th>frequency</th>\n",
       "      <th>recency</th>\n",
       "      <th>T</th>\n",
       "      <th>monetary_value</th>\n",
       "      <th>condit_prob_alive</th>\n",
       "      <th>predict_purchases</th>\n",
       "    </tr>\n",
       "  </thead>\n",
       "  <tbody>\n",
       "    <tr>\n",
       "      <th>0</th>\n",
       "      <td>22120</td>\n",
       "      <td>1.0</td>\n",
       "      <td>726.0</td>\n",
       "      <td>1114.0</td>\n",
       "      <td>13.950000</td>\n",
       "      <td>0.773238</td>\n",
       "      <td>4.92</td>\n",
       "    </tr>\n",
       "    <tr>\n",
       "      <th>1</th>\n",
       "      <td>24436</td>\n",
       "      <td>0.0</td>\n",
       "      <td>0.0</td>\n",
       "      <td>199.0</td>\n",
       "      <td>0.000000</td>\n",
       "      <td>1.000000</td>\n",
       "      <td>4.33</td>\n",
       "    </tr>\n",
       "    <tr>\n",
       "      <th>2</th>\n",
       "      <td>29278</td>\n",
       "      <td>6.0</td>\n",
       "      <td>1470.0</td>\n",
       "      <td>1492.0</td>\n",
       "      <td>41.433333</td>\n",
       "      <td>0.921728</td>\n",
       "      <td>18.85</td>\n",
       "    </tr>\n",
       "    <tr>\n",
       "      <th>3</th>\n",
       "      <td>50011</td>\n",
       "      <td>0.0</td>\n",
       "      <td>0.0</td>\n",
       "      <td>1821.0</td>\n",
       "      <td>0.000000</td>\n",
       "      <td>1.000000</td>\n",
       "      <td>1.46</td>\n",
       "    </tr>\n",
       "    <tr>\n",
       "      <th>4</th>\n",
       "      <td>51943</td>\n",
       "      <td>1.0</td>\n",
       "      <td>68.0</td>\n",
       "      <td>2208.0</td>\n",
       "      <td>23.950000</td>\n",
       "      <td>0.238740</td>\n",
       "      <td>1.00</td>\n",
       "    </tr>\n",
       "    <tr>\n",
       "      <th>5</th>\n",
       "      <td>53281</td>\n",
       "      <td>3.0</td>\n",
       "      <td>464.0</td>\n",
       "      <td>2374.0</td>\n",
       "      <td>74.550000</td>\n",
       "      <td>0.091178</td>\n",
       "      <td>0.81</td>\n",
       "    </tr>\n",
       "    <tr>\n",
       "      <th>6</th>\n",
       "      <td>55012</td>\n",
       "      <td>1.0</td>\n",
       "      <td>360.0</td>\n",
       "      <td>2202.0</td>\n",
       "      <td>46.950000</td>\n",
       "      <td>0.439567</td>\n",
       "      <td>1.84</td>\n",
       "    </tr>\n",
       "    <tr>\n",
       "      <th>7</th>\n",
       "      <td>99546</td>\n",
       "      <td>0.0</td>\n",
       "      <td>0.0</td>\n",
       "      <td>2214.0</td>\n",
       "      <td>0.000000</td>\n",
       "      <td>1.000000</td>\n",
       "      <td>1.28</td>\n",
       "    </tr>\n",
       "    <tr>\n",
       "      <th>8</th>\n",
       "      <td>107697</td>\n",
       "      <td>0.0</td>\n",
       "      <td>0.0</td>\n",
       "      <td>2233.0</td>\n",
       "      <td>0.000000</td>\n",
       "      <td>1.000000</td>\n",
       "      <td>1.27</td>\n",
       "    </tr>\n",
       "    <tr>\n",
       "      <th>9</th>\n",
       "      <td>156468</td>\n",
       "      <td>1.0</td>\n",
       "      <td>741.0</td>\n",
       "      <td>2293.0</td>\n",
       "      <td>53.900000</td>\n",
       "      <td>0.594610</td>\n",
       "      <td>2.42</td>\n",
       "    </tr>\n",
       "  </tbody>\n",
       "</table>\n",
       "</div>"
      ],
      "text/plain": [
       "   Cust_ID  frequency  recency       T  monetary_value  condit_prob_alive  \\\n",
       "0    22120        1.0    726.0  1114.0       13.950000           0.773238   \n",
       "1    24436        0.0      0.0   199.0        0.000000           1.000000   \n",
       "2    29278        6.0   1470.0  1492.0       41.433333           0.921728   \n",
       "3    50011        0.0      0.0  1821.0        0.000000           1.000000   \n",
       "4    51943        1.0     68.0  2208.0       23.950000           0.238740   \n",
       "5    53281        3.0    464.0  2374.0       74.550000           0.091178   \n",
       "6    55012        1.0    360.0  2202.0       46.950000           0.439567   \n",
       "7    99546        0.0      0.0  2214.0        0.000000           1.000000   \n",
       "8   107697        0.0      0.0  2233.0        0.000000           1.000000   \n",
       "9   156468        1.0    741.0  2293.0       53.900000           0.594610   \n",
       "\n",
       "   predict_purchases  \n",
       "0               4.92  \n",
       "1               4.33  \n",
       "2              18.85  \n",
       "3               1.46  \n",
       "4               1.00  \n",
       "5               0.81  \n",
       "6               1.84  \n",
       "7               1.28  \n",
       "8               1.27  \n",
       "9               2.42  "
      ]
     },
     "execution_count": 18,
     "metadata": {},
     "output_type": "execute_result"
    }
   ],
   "source": [
    "# predict future number of transaction for each customer over a period t\n",
    "# we use a timespan 30 years  \n",
    "\n",
    "t = 365*30 # number of days corresponding to 30 years\n",
    "\n",
    "summary_data['predict_purchases'] = round(bgf.conditional_expected_number_of_purchases_up_to_time(t, summary_data['frequency'], summary_data['recency'], summary_data['T']),2)\n",
    "summary_data.sort_values(by='predict_purchases', ascending=False).reset_index()\n",
    "summary_data.head(10)"
   ]
  },
  {
   "cell_type": "code",
   "execution_count": 19,
   "metadata": {},
   "outputs": [
    {
     "data": {
      "text/plain": [
       "<lifetimes.GammaGammaFitter: fitted with 43486 subjects, p: 5.77, q: 1.03, v: 5.51>"
      ]
     },
     "execution_count": 19,
     "metadata": {},
     "output_type": "execute_result"
    }
   ],
   "source": [
    "# we consider only recurring customers when fitting the gamma-gamma model\n",
    "recurring_customers = summary_data[summary_data['frequency']>0]\n",
    "ggf = lifetimes.GammaGammaFitter(penalizer_coef=0.004)\n",
    "ggf.fit(recurring_customers['frequency'], recurring_customers['monetary_value'])"
   ]
  },
  {
   "cell_type": "code",
   "execution_count": 20,
   "metadata": {
    "scrolled": true
   },
   "outputs": [
    {
     "data": {
      "text/html": [
       "<div>\n",
       "<style scoped>\n",
       "    .dataframe tbody tr th:only-of-type {\n",
       "        vertical-align: middle;\n",
       "    }\n",
       "\n",
       "    .dataframe tbody tr th {\n",
       "        vertical-align: top;\n",
       "    }\n",
       "\n",
       "    .dataframe thead th {\n",
       "        text-align: right;\n",
       "    }\n",
       "</style>\n",
       "<table border=\"1\" class=\"dataframe\">\n",
       "  <thead>\n",
       "    <tr style=\"text-align: right;\">\n",
       "      <th></th>\n",
       "      <th>Cust_ID</th>\n",
       "      <th>frequency</th>\n",
       "      <th>recency</th>\n",
       "      <th>T</th>\n",
       "      <th>monetary_value</th>\n",
       "      <th>condit_prob_alive</th>\n",
       "      <th>predict_purchases</th>\n",
       "      <th>exp_avg_rev</th>\n",
       "    </tr>\n",
       "  </thead>\n",
       "  <tbody>\n",
       "    <tr>\n",
       "      <th>0</th>\n",
       "      <td>22120</td>\n",
       "      <td>1.0</td>\n",
       "      <td>726.0</td>\n",
       "      <td>1114.0</td>\n",
       "      <td>13.950000</td>\n",
       "      <td>0.773238</td>\n",
       "      <td>4.92</td>\n",
       "      <td>19.369841</td>\n",
       "    </tr>\n",
       "    <tr>\n",
       "      <th>2</th>\n",
       "      <td>29278</td>\n",
       "      <td>6.0</td>\n",
       "      <td>1470.0</td>\n",
       "      <td>1492.0</td>\n",
       "      <td>41.433333</td>\n",
       "      <td>0.921728</td>\n",
       "      <td>18.85</td>\n",
       "      <td>42.319261</td>\n",
       "    </tr>\n",
       "    <tr>\n",
       "      <th>4</th>\n",
       "      <td>51943</td>\n",
       "      <td>1.0</td>\n",
       "      <td>68.0</td>\n",
       "      <td>2208.0</td>\n",
       "      <td>23.950000</td>\n",
       "      <td>0.238740</td>\n",
       "      <td>1.00</td>\n",
       "      <td>29.324611</td>\n",
       "    </tr>\n",
       "    <tr>\n",
       "      <th>5</th>\n",
       "      <td>53281</td>\n",
       "      <td>3.0</td>\n",
       "      <td>464.0</td>\n",
       "      <td>2374.0</td>\n",
       "      <td>74.550000</td>\n",
       "      <td>0.091178</td>\n",
       "      <td>0.81</td>\n",
       "      <td>76.270437</td>\n",
       "    </tr>\n",
       "    <tr>\n",
       "      <th>6</th>\n",
       "      <td>55012</td>\n",
       "      <td>1.0</td>\n",
       "      <td>360.0</td>\n",
       "      <td>2202.0</td>\n",
       "      <td>46.950000</td>\n",
       "      <td>0.439567</td>\n",
       "      <td>1.84</td>\n",
       "      <td>52.220582</td>\n",
       "    </tr>\n",
       "  </tbody>\n",
       "</table>\n",
       "</div>"
      ],
      "text/plain": [
       "   Cust_ID  frequency  recency       T  monetary_value  condit_prob_alive  \\\n",
       "0    22120        1.0    726.0  1114.0       13.950000           0.773238   \n",
       "2    29278        6.0   1470.0  1492.0       41.433333           0.921728   \n",
       "4    51943        1.0     68.0  2208.0       23.950000           0.238740   \n",
       "5    53281        3.0    464.0  2374.0       74.550000           0.091178   \n",
       "6    55012        1.0    360.0  2202.0       46.950000           0.439567   \n",
       "\n",
       "   predict_purchases  exp_avg_rev  \n",
       "0               4.92    19.369841  \n",
       "2              18.85    42.319261  \n",
       "4               1.00    29.324611  \n",
       "5               0.81    76.270437  \n",
       "6               1.84    52.220582  "
      ]
     },
     "execution_count": 20,
     "metadata": {},
     "output_type": "execute_result"
    }
   ],
   "source": [
    "# filter out customers who did not do any purchase\n",
    "summary_data = summary_data[summary_data['monetary_value']>0]\n",
    "\n",
    "# calculate conditional expectation of average revenue per transaction \n",
    "summary_data['exp_avg_rev'] = ggf.conditional_expected_average_profit(summary_data['frequency'], summary_data['monetary_value'])\n",
    "summary_data.head()"
   ]
  },
  {
   "cell_type": "markdown",
   "metadata": {},
   "source": [
    "The Penalizer coefficient chosed for Gamma Gamma model was based on the comparison of the probability distribution of expected average revenue from the model (exp_avg_rev) verses the actual revenue spend by the customers (i.e. the monetary_value calculated from historical data)."
   ]
  },
  {
   "cell_type": "code",
   "execution_count": 21,
   "metadata": {},
   "outputs": [
    {
     "data": {
      "image/png": "[encoded data removed]",
      "text/plain": [
       "<Figure size 864x576 with 1 Axes>"
      ]
     },
     "metadata": {
      "needs_background": "light"
     },
     "output_type": "display_data"
    }
   ],
   "source": [
    "# density plot of actual vs expected distribution of average transaction value \n",
    "import seaborn as sns\n",
    "import matplotlib.pyplot as plt\n",
    "fig, ax = plt.subplots(figsize=(12, 8))\n",
    "\n",
    "fig = sns.kdeplot(summary_data['exp_avg_rev'], shade=True, color=\"r\")\n",
    "fig = sns.kdeplot(summary_data['monetary_value'], shade=True, color=\"b\")\n",
    "plt.show()"
   ]
  },
  {
   "cell_type": "code",
   "execution_count": 22,
   "metadata": {},
   "outputs": [
    {
     "data": {
      "text/html": [
       "<div>\n",
       "<style scoped>\n",
       "    .dataframe tbody tr th:only-of-type {\n",
       "        vertical-align: middle;\n",
       "    }\n",
       "\n",
       "    .dataframe tbody tr th {\n",
       "        vertical-align: top;\n",
       "    }\n",
       "\n",
       "    .dataframe thead th {\n",
       "        text-align: right;\n",
       "    }\n",
       "</style>\n",
       "<table border=\"1\" class=\"dataframe\">\n",
       "  <thead>\n",
       "    <tr style=\"text-align: right;\">\n",
       "      <th></th>\n",
       "      <th>Cust_ID</th>\n",
       "      <th>frequency</th>\n",
       "      <th>recency</th>\n",
       "      <th>T</th>\n",
       "      <th>monetary_value</th>\n",
       "      <th>condit_prob_alive</th>\n",
       "      <th>predict_purchases</th>\n",
       "      <th>exp_avg_rev</th>\n",
       "      <th>clv</th>\n",
       "    </tr>\n",
       "  </thead>\n",
       "  <tbody>\n",
       "    <tr>\n",
       "      <th>0</th>\n",
       "      <td>22120</td>\n",
       "      <td>1.0</td>\n",
       "      <td>726.0</td>\n",
       "      <td>1114.0</td>\n",
       "      <td>13.950000</td>\n",
       "      <td>0.773238</td>\n",
       "      <td>4.92</td>\n",
       "      <td>19.369841</td>\n",
       "      <td>37.537844</td>\n",
       "    </tr>\n",
       "    <tr>\n",
       "      <th>2</th>\n",
       "      <td>29278</td>\n",
       "      <td>6.0</td>\n",
       "      <td>1470.0</td>\n",
       "      <td>1492.0</td>\n",
       "      <td>41.433333</td>\n",
       "      <td>0.921728</td>\n",
       "      <td>18.85</td>\n",
       "      <td>42.319261</td>\n",
       "      <td>326.612079</td>\n",
       "    </tr>\n",
       "    <tr>\n",
       "      <th>4</th>\n",
       "      <td>51943</td>\n",
       "      <td>1.0</td>\n",
       "      <td>68.0</td>\n",
       "      <td>2208.0</td>\n",
       "      <td>23.950000</td>\n",
       "      <td>0.238740</td>\n",
       "      <td>1.00</td>\n",
       "      <td>29.324611</td>\n",
       "      <td>10.954454</td>\n",
       "    </tr>\n",
       "    <tr>\n",
       "      <th>5</th>\n",
       "      <td>53281</td>\n",
       "      <td>3.0</td>\n",
       "      <td>464.0</td>\n",
       "      <td>2374.0</td>\n",
       "      <td>74.550000</td>\n",
       "      <td>0.091178</td>\n",
       "      <td>0.81</td>\n",
       "      <td>76.270437</td>\n",
       "      <td>23.669034</td>\n",
       "    </tr>\n",
       "    <tr>\n",
       "      <th>6</th>\n",
       "      <td>55012</td>\n",
       "      <td>1.0</td>\n",
       "      <td>360.0</td>\n",
       "      <td>2202.0</td>\n",
       "      <td>46.950000</td>\n",
       "      <td>0.439567</td>\n",
       "      <td>1.84</td>\n",
       "      <td>52.220582</td>\n",
       "      <td>35.989590</td>\n",
       "    </tr>\n",
       "  </tbody>\n",
       "</table>\n",
       "</div>"
      ],
      "text/plain": [
       "   Cust_ID  frequency  recency       T  monetary_value  condit_prob_alive  \\\n",
       "0    22120        1.0    726.0  1114.0       13.950000           0.773238   \n",
       "2    29278        6.0   1470.0  1492.0       41.433333           0.921728   \n",
       "4    51943        1.0     68.0  2208.0       23.950000           0.238740   \n",
       "5    53281        3.0    464.0  2374.0       74.550000           0.091178   \n",
       "6    55012        1.0    360.0  2202.0       46.950000           0.439567   \n",
       "\n",
       "   predict_purchases  exp_avg_rev         clv  \n",
       "0               4.92    19.369841   37.537844  \n",
       "2              18.85    42.319261  326.612079  \n",
       "4               1.00    29.324611   10.954454  \n",
       "5               0.81    76.270437   23.669034  \n",
       "6               1.84    52.220582   35.989590  "
      ]
     },
     "execution_count": 22,
     "metadata": {},
     "output_type": "execute_result"
    }
   ],
   "source": [
    "# calculate CLV for future 30 years\n",
    "annual_rate = 0.1\n",
    "monthly_rate = (1+annual_rate)**(1/12)-1 # convert annual rate to monthly rate\n",
    "lifetime_in_years = 30\n",
    "lifetime_in_month = lifetime_in_years*12 # convert years in months\n",
    "\n",
    "summary_data['clv'] = ggf.customer_lifetime_value(bgf, summary_data['frequency'], summary_data['recency'], summary_data['T'], summary_data['monetary_value'], time=lifetime_in_month, freq='D', discount_rate=monthly_rate)\n",
    "summary_data.head()"
   ]
  },
  {
   "cell_type": "markdown",
   "metadata": {},
   "source": [
    "The average CLV is: "
   ]
  },
  {
   "cell_type": "code",
   "execution_count": 23,
   "metadata": {},
   "outputs": [
    {
     "data": {
      "text/plain": [
       "273.9697188086635"
      ]
     },
     "execution_count": 23,
     "metadata": {},
     "output_type": "execute_result"
    }
   ],
   "source": [
    "# calculate average CLV\n",
    "summary_data['clv'].mean()"
   ]
  }
 ],
 "metadata": {
  "kernelspec": {
   "display_name": "Python 3",
   "language": "python",
   "name": "python3"
  },
  "language_info": {
   "codemirror_mode": {
    "name": "ipython",
    "version": 3
   },
   "file_extension": ".py",
   "mimetype": "text/x-python",
   "name": "python",
   "nbconvert_exporter": "python",
   "pygments_lexer": "ipython3",
   "version": "3.8.5"
  }
 },
 "nbformat": 4,
 "nbformat_minor": 4
}
